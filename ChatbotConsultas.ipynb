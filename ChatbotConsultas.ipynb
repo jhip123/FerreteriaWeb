{
 "cells": [
  {
   "cell_type": "code",
   "execution_count": 23,
   "id": "504c651e-a56d-4a96-89ed-cc58c710645d",
   "metadata": {},
   "outputs": [
    {
     "name": "stderr",
     "output_type": "stream",
     "text": [
      "[nltk_data] Downloading package wordnet to\n",
      "[nltk_data]     C:\\Users\\Veliz\\AppData\\Roaming\\nltk_data...\n",
      "[nltk_data]   Package wordnet is already up-to-date!\n",
      "[nltk_data] Downloading package stopwords to\n",
      "[nltk_data]     C:\\Users\\Veliz\\AppData\\Roaming\\nltk_data...\n",
      "[nltk_data]   Package stopwords is already up-to-date!\n",
      "[nltk_data] Downloading package punkt to\n",
      "[nltk_data]     C:\\Users\\Veliz\\AppData\\Roaming\\nltk_data...\n",
      "[nltk_data]   Package punkt is already up-to-date!\n"
     ]
    }
   ],
   "source": [
    "import pandas as pd\n",
    "import nltk\n",
    "import numpy as np\n",
    "import string\n",
    "import warnings\n",
    "import requests\n",
    "import pickle\n",
    "import random\n",
    "#Libreria de coneccion a bd\n",
    "import mysql.connector\n",
    "#Libreria de coneccion a bd\n",
    "\n",
    "nltk.download('wordnet')\n",
    "nltk.download('stopwords')\n",
    "nltk.download('punkt')\n",
    "\n",
    "from sklearn.feature_extraction.text import TfidfVectorizer\n",
    "from sklearn.metrics.pairwise import cosine_similarity"
   ]
  },
  {
   "cell_type": "code",
   "execution_count": 25,
   "id": "c71d78b3-45b3-40c1-8d6b-d5d6f56a5146",
   "metadata": {},
   "outputs": [
    {
     "data": {
      "text/html": [
       "<div>\n",
       "<style scoped>\n",
       "    .dataframe tbody tr th:only-of-type {\n",
       "        vertical-align: middle;\n",
       "    }\n",
       "\n",
       "    .dataframe tbody tr th {\n",
       "        vertical-align: top;\n",
       "    }\n",
       "\n",
       "    .dataframe thead th {\n",
       "        text-align: right;\n",
       "    }\n",
       "</style>\n",
       "<table border=\"1\" class=\"dataframe\">\n",
       "  <thead>\n",
       "    <tr style=\"text-align: right;\">\n",
       "      <th></th>\n",
       "      <th>Text</th>\n",
       "      <th>Intent</th>\n",
       "    </tr>\n",
       "  </thead>\n",
       "  <tbody>\n",
       "    <tr>\n",
       "      <th>0</th>\n",
       "      <td>Hola</td>\n",
       "      <td>0</td>\n",
       "    </tr>\n",
       "    <tr>\n",
       "      <th>1</th>\n",
       "      <td>Hola, ¿como estas?</td>\n",
       "      <td>0</td>\n",
       "    </tr>\n",
       "    <tr>\n",
       "      <th>2</th>\n",
       "      <td>Que tal, buenos dias</td>\n",
       "      <td>0</td>\n",
       "    </tr>\n",
       "    <tr>\n",
       "      <th>3</th>\n",
       "      <td>Buen dia.</td>\n",
       "      <td>0</td>\n",
       "    </tr>\n",
       "    <tr>\n",
       "      <th>4</th>\n",
       "      <td>Hey, ¿Que tal?</td>\n",
       "      <td>0</td>\n",
       "    </tr>\n",
       "    <tr>\n",
       "      <th>...</th>\n",
       "      <td>...</td>\n",
       "      <td>...</td>\n",
       "    </tr>\n",
       "    <tr>\n",
       "      <th>103</th>\n",
       "      <td>Muchas gracias por su atencion</td>\n",
       "      <td>11</td>\n",
       "    </tr>\n",
       "    <tr>\n",
       "      <th>104</th>\n",
       "      <td>Gracias, hasta luego</td>\n",
       "      <td>11</td>\n",
       "    </tr>\n",
       "    <tr>\n",
       "      <th>105</th>\n",
       "      <td>Gracias por su atención</td>\n",
       "      <td>11</td>\n",
       "    </tr>\n",
       "    <tr>\n",
       "      <th>106</th>\n",
       "      <td>Gracias!</td>\n",
       "      <td>11</td>\n",
       "    </tr>\n",
       "    <tr>\n",
       "      <th>107</th>\n",
       "      <td>buen servicio, hasta pronto</td>\n",
       "      <td>11</td>\n",
       "    </tr>\n",
       "  </tbody>\n",
       "</table>\n",
       "<p>108 rows × 2 columns</p>\n",
       "</div>"
      ],
      "text/plain": [
       "                               Text  Intent\n",
       "0                              Hola       0\n",
       "1                Hola, ¿como estas?       0\n",
       "2              Que tal, buenos dias       0\n",
       "3                         Buen dia.       0\n",
       "4                    Hey, ¿Que tal?       0\n",
       "..                              ...     ...\n",
       "103  Muchas gracias por su atencion      11\n",
       "104            Gracias, hasta luego      11\n",
       "105         Gracias por su atención      11\n",
       "106                        Gracias!      11\n",
       "107     buen servicio, hasta pronto      11\n",
       "\n",
       "[108 rows x 2 columns]"
      ]
     },
     "execution_count": 25,
     "metadata": {},
     "output_type": "execute_result"
    }
   ],
   "source": [
    "data = [[\"Hola\",0],[\"Hola, ¿como estas?\",0],[\"Que tal, buenos dias\",0],[\"Buen dia.\",0],[\"Hey, ¿Que tal?\",0],[\"¡Hey!.\",0],[\"Buenas.\",0],\n",
    "        [\"¿Que destinos tiene?\",1],[\"¿Que viajes tiene?\",1],[\"¿Que viajes pueden realizar?\",1],[\"¿Pueden mencionarme sus viajes?\",1],[\"En que parte veo sus destinos\",1],[\"Viajan para La merced?\",1],[\"Viajan para La Satipo?\",1],[\"Viajan para La Pichanaki?\",1],[\"Viajan para La Huacayo?\",1],[\"Que destinos pueden ir?\",1],[\"Que destinos puedo ir?\",1],[\"Que viajes tienen?\",1],[\"Me puede mencionar los pasajes?\",1],[\"¨Puede usted mencionarme los pasajes que tienen?\",1],[\"Que destinos cuentan por el momento?\",1],\n",
    "        [\"¿Que horarios son sus viajes?\",2],[\"¿Que horarios disponen?\",2],[\"¿Que horarios tienen para viajar?\",2],[\"¿Pueden mencionarme sus horarios de viaje?\",2],[\"¿Me brinda los horarios que dispone para viajar?\",2],[\"Que horarios disponen en estos momentos\",2],[\"Tienen horarios disponibles?\",2],[\"Puede brindarme horarios?\",2],[\"Como puedo saber los horarios?\",2],[\"Me gustaria saber los horarios que tienen disponibles\",2],      \n",
    "        [\"¿En que parte se ubican los terminales?\",3],[\"¿Dirección de sus terminales?\",3],[\"En satipo en que lugar se encuentra su terminal?\",3],[\"Estoy en la mercerd, en que lugar esta su terminal?\",3],[\"Se ubican por huancayo?\",3],[\"Que ubicación esta su terminal\",3],[\"Donde esta ubicado su terminal\",3],[\"Su terminal en que parte esta?\",3],[\"En que lugar es su terminal para comprar pasajes?\",3],[\"Tiene varias agencias para la compra de mis pasajes?\",3],[\"En que lugar esta ubicado su agencia?\",3],[\"Su agencia de donde estan?\",3],[\"Agencia?\",3],[\"Terminal?\",3],\n",
    "        [\"Cuanto están los pasajes?\",4],[\"Cuento cuestan los pasajes de su empresa?\",4],[\"Cuanto cuestan los pasajes?\",4],[\"Los costos de los pasajes son variados?\",4],[\"Cual es el precio de sus pasajes?\",4],[\"El precio de los pasajes?\",4],[\"Cual es el costo de sus pasajes?\",4],[\"Me podria mencionar sus precios\",4],[\"Costo de pasajes\",4],[\"Precio de pasajes\",4],[\"Costo\",4],[\"Precio\",4],\n",
    "        [\"Sabe usted algun lugar turistico que me pueda recomendar?\",5],[\"Lugares turisticos?\",5],[\"Que destinos turisticos me recomienda?\",5],[\"Me podria recomendar un lugar de paseo?\",5],[\"Usted sabe lugares de paseo?\",5],[\"Que lugares de paseo tienen\",5],[\"Paseo\",5],[\"Turistico\",5],[\"Turismo\",5],[\"Lugares turisticos\",5],[\"Paseos familiares\",5],\n",
    "        [\"Como puedo comprar un viaje?\",6],[\"Puedo comprar mi pasaje con tarjeta?\",6],[\"Que metodos de pago tiene?\",6],[\"Con que trajetas puedo pagar?\",6],[\"Aceptan efectivo?\",6],[\"Puedo comprar mi pasaje con otro metodo?\",6],[\"Tiene variedad de metodos?\",6],[\"Métodos?\",6],[\"Métodos de pago\",6],[\"Como puedo pagar\",6],[\"Pago\",6],[\"Pagar\",6],[\"Comprar\",6],\n",
    "        [\"Que asientos tiene disponible?\",7],[\"Los asientos disponibles que tienes cuales son?\",7],[\"Dispone de asientos disponibles?\",7],[\"Asientos\",7],[\"Los asientos que cuenta?\",7],[\"Cuales asientos le resta\",7],\n",
    "        [\"Cuales son tus políticas de la empresa\",8],[\"La empresa cuenta son políticas para reclamos?\",8],[\"políticas\",8],[\"política\",8],[\"Dónde puedo ver que políticas tiene la empresa?\",8],\n",
    "        [\"Me gustaría hacer una compra de pasaje\",9],[\"Comprar pasaje\",9],[\"Adquirir la compra del pasaje\",9],\n",
    "        [\"Nos vemos\",10],[\"Hasta luego\",10],[\"Nos vemos pronto\",10],[\"Hasta pronto\",10],[\"Nos vemos luego\",10],[\"Bye\",10],[\"hasta la proxima\",10],\n",
    "        [\"Muchas gracias por su atencion\",11],[\"Gracias, hasta luego\",11],[\"Gracias por su atención\",11],[\"Gracias!\",11],[\"buen servicio, hasta pronto\",11]]\n",
    "df = pd.DataFrame(data, columns = [\"Text\",\"Intent\"])\n",
    "df"
   ]
  },
  {
   "cell_type": "code",
   "execution_count": 26,
   "id": "ec7a59dc-66e2-4cec-9989-7990f5e15367",
   "metadata": {},
   "outputs": [],
   "source": [
    "# Lemmitization\n",
    "\n",
    "lemmer = nltk.stem.WordNetLemmatizer()"
   ]
  },
  {
   "cell_type": "code",
   "execution_count": 27,
   "id": "b039d2a2-6f42-48f5-bb8d-4d734273f6f4",
   "metadata": {},
   "outputs": [],
   "source": [
    "def LemTokens(tokens):\n",
    "    return [lemmer.lemmatize(token) for token in tokens]"
   ]
  },
  {
   "cell_type": "code",
   "execution_count": 28,
   "id": "ae14a9e2-fdca-47f0-bb1b-82acd6d70940",
   "metadata": {},
   "outputs": [],
   "source": [
    "remove_punct_dict = dict((ord(punct), None) for punct in string.punctuation)"
   ]
  },
  {
   "cell_type": "code",
   "execution_count": 29,
   "id": "a4c5a146-5603-4675-8050-92856e03e8b2",
   "metadata": {},
   "outputs": [],
   "source": [
    "def Normalize(text):\n",
    "    return LemTokens(nltk.word_tokenize(text.lower().translate(remove_punct_dict)))"
   ]
  },
  {
   "cell_type": "code",
   "execution_count": 30,
   "id": "3362006f-7ded-4d0d-9f96-1c038b531e04",
   "metadata": {},
   "outputs": [],
   "source": [
    "x = df['Text']\n",
    "y = df['Intent']"
   ]
  },
  {
   "cell_type": "code",
   "execution_count": 31,
   "id": "bb6760fa-74b5-487f-8cc3-074fc3353490",
   "metadata": {},
   "outputs": [],
   "source": [
    "vectorizer = TfidfVectorizer(tokenizer=Normalize,stop_words = 'english')"
   ]
  },
  {
   "cell_type": "code",
   "execution_count": 32,
   "id": "90536bd1-0bd7-4136-81d1-92bd823cc5c3",
   "metadata": {},
   "outputs": [
    {
     "name": "stderr",
     "output_type": "stream",
     "text": [
      "C:\\ProgramData\\Anaconda3\\lib\\site-packages\\sklearn\\feature_extraction\\text.py:388: UserWarning: Your stop_words may be inconsistent with your preprocessing. Tokenizing the stop words generated tokens ['ha', 'le', 'u', 'wa'] not in stop_words.\n",
      "  warnings.warn('Your stop_words may be inconsistent with '\n"
     ]
    }
   ],
   "source": [
    "X = vectorizer.fit_transform(x)"
   ]
  },
  {
   "cell_type": "code",
   "execution_count": 33,
   "id": "371edd77-2dd0-427a-a283-c1db1d5e9885",
   "metadata": {},
   "outputs": [
    {
     "data": {
      "text/plain": [
       "LogisticRegression()"
      ]
     },
     "execution_count": 33,
     "metadata": {},
     "output_type": "execute_result"
    }
   ],
   "source": [
    "# training a Naive Bayes classifier \n",
    "from sklearn.linear_model import LogisticRegression\n",
    "\n",
    "lr = LogisticRegression()\n",
    "\n",
    "lr.fit(X, y)"
   ]
  },
  {
   "cell_type": "code",
   "execution_count": 34,
   "id": "bc2fea10-664f-4d7c-bec0-c6df2f810bf5",
   "metadata": {},
   "outputs": [],
   "source": [
    "X_test = [\"flowers\"]\n",
    "prediction = lr.predict(vectorizer.transform(X_test))"
   ]
  },
  {
   "cell_type": "code",
   "execution_count": 35,
   "id": "974e2aa3-18d2-431b-8300-5f51e090ff45",
   "metadata": {},
   "outputs": [
    {
     "data": {
      "text/plain": [
       "array([1], dtype=int64)"
      ]
     },
     "execution_count": 35,
     "metadata": {},
     "output_type": "execute_result"
    }
   ],
   "source": [
    "prediction"
   ]
  },
  {
   "cell_type": "code",
   "execution_count": 36,
   "id": "5c9e83d4-1487-4775-831a-bca6153d1d2f",
   "metadata": {},
   "outputs": [
    {
     "data": {
      "text/plain": [
       "array([[0.08025033, 0.13048288, 0.08358773, 0.11751616, 0.1005759 ,\n",
       "        0.10573135, 0.12706034, 0.05366456, 0.05028101, 0.03208757,\n",
       "        0.06926634, 0.04949584]])"
      ]
     },
     "execution_count": 36,
     "metadata": {},
     "output_type": "execute_result"
    }
   ],
   "source": [
    "# To get the probability of test data to be present in each Intent\n",
    "\n",
    "a = lr.predict_proba(vectorizer.transform(X_test))\n",
    "a"
   ]
  },
  {
   "cell_type": "code",
   "execution_count": 30,
   "id": "c6e2803c-7f9b-4d65-b8c9-b76069ff1439",
   "metadata": {},
   "outputs": [
    {
     "name": "stdout",
     "output_type": "stream",
     "text": [
      "[('CARRITO1',)]\n",
      "2\n",
      "11\n",
      "CARRITO1\n"
     ]
    }
   ],
   "source": [
    "db = mysql.connector.connect(\n",
    "  host=\"MYSQL5027.site4now.net\",\n",
    "  user=\"a7b711_busproy\",\n",
    "  password=\"Sistemas10\",\n",
    "  port= \"3306\",  \n",
    "  database= \"db_a7b711_busproy\"\n",
    ")\n",
    "\n",
    "cursor = db.cursor()\n",
    "cursor.execute(\"SELECT codigo FROM minivan  WHERE id = 1\")\n",
    "vista = str(cursor.fetchall()[0:])\n",
    "print(vista)\n",
    "inicio = vista.find(\"'\")\n",
    "print(inicio)\n",
    "final = vista.find(\"'\",inicio+1)\n",
    "print(final)\n",
    "extraerdato=vista[inicio+1:final]\n",
    "print(extraerdato)"
   ]
  },
  {
   "cell_type": "code",
   "execution_count": 37,
   "id": "ecf5818c-ee1f-450c-9409-15672503e87d",
   "metadata": {},
   "outputs": [
    {
     "name": "stdout",
     "output_type": "stream",
     "text": [
      "35100\n"
     ]
    }
   ],
   "source": [
    "db = mysql.connector.connect(\n",
    "  host=\"MYSQL5027.site4now.net\",\n",
    "  user=\"a7b711_busproy\",\n",
    "  password=\"Sistemas10\",\n",
    "  port= \"3306\",  \n",
    "  database= \"db_a7b711_busproy\"\n",
    ")\n",
    "\n",
    "cursor = db.cursor()\n",
    "cursor.execute(\"SELECT hora_salida FROM viaje_detalle where id=1\")\n",
    "vista2 = str(cursor.fetchall()[0:])\n",
    "inicio = vista2.find(\"=\")\n",
    "final = vista2.find(\")\")\n",
    "extraerdato=int(vista2[inicio+1:final])\n",
    "print(extraerdato)"
   ]
  },
  {
   "cell_type": "code",
   "execution_count": 38,
   "id": "49ed0eab-fa12-46d8-bf22-89b5bdf54feb",
   "metadata": {},
   "outputs": [
    {
     "name": "stdout",
     "output_type": "stream",
     "text": [
      "09:45:00 AM\n"
     ]
    }
   ],
   "source": [
    "import time\n",
    "from datetime import datetime, timedelta\n",
    "def convert_to_hours(delta):\n",
    "    total_seconds = delta.total_seconds()\n",
    "    hours = str(int(total_seconds // 3600)).zfill(2)\n",
    "    minutes = str(int((total_seconds % 3600) // 60)).zfill(2)\n",
    "    seconds = str(int(total_seconds % 60)).zfill(2)\n",
    "    return f\"{hours}:{minutes}:{seconds}\"\n",
    "\n",
    "delta = timedelta(seconds=extraerdato)\n",
    "Finalextraido=convert_to_hours(delta)\n",
    "HoraFinal=Finalextraido+\" AM\"\n",
    "print(HoraFinal)"
   ]
  },
  {
   "cell_type": "code",
   "execution_count": 39,
   "id": "c8998a2f-db51-43ff-9261-36de30bf94f5",
   "metadata": {},
   "outputs": [
    {
     "name": "stdout",
     "output_type": "stream",
     "text": [
      "S/. 30.00\n"
     ]
    }
   ],
   "source": [
    "db = mysql.connector.connect(\n",
    "  host=\"MYSQL5027.site4now.net\",\n",
    "  user=\"a7b711_busproy\",\n",
    "  password=\"Sistemas10\",\n",
    "  port= \"3306\",  \n",
    "  database= \"db_a7b711_busproy\"\n",
    ")\n",
    "\n",
    "cursor = db.cursor()\n",
    "cursor.execute(\"SELECT precio_viaje FROM viaje_detalle where id=1\")\n",
    "vista6a = str(cursor.fetchall()[0:])\n",
    "inicio = vista6a.find(\"'\")\n",
    "final = vista6a.find(\"'\",inicio+1)\n",
    "extraerdato=vista6a[inicio+1:final]\n",
    "PagFin1=\"S/. \"+extraerdato+\", \"\n",
    "print(PagFin1)"
   ]
  },
  {
   "cell_type": "code",
   "execution_count": 42,
   "id": "4dcbe532-f181-4279-bfd7-19f9fd039958",
   "metadata": {},
   "outputs": [
    {
     "name": "stdout",
     "output_type": "stream",
     "text": [
      "S/. 15.00\n"
     ]
    }
   ],
   "source": [
    "db = mysql.connector.connect(\n",
    "  host=\"MYSQL5027.site4now.net\",\n",
    "  user=\"a7b711_busproy\",\n",
    "  password=\"Sistemas10\",\n",
    "  port= \"3306\",  \n",
    "  database= \"db_a7b711_busproy\"\n",
    ")\n",
    "\n",
    "cursor = db.cursor()\n",
    "cursor.execute(\"SELECT precio_viaje FROM viaje_detalle where id=2\")\n",
    "vista6b = str(cursor.fetchall()[0:])\n",
    "inicio = vista6b.find(\"'\")\n",
    "final = vista6b.find(\"'\",inicio+1)\n",
    "extraerdato=vista6b[inicio+1:final]\n",
    "PagFin2=\", S/. \"+extraerdato\n",
    "print(PagFin2)"
   ]
  },
  {
   "cell_type": "code",
   "execution_count": 43,
   "id": "75fb332a-fe5f-4f00-a1b8-30444fea8703",
   "metadata": {},
   "outputs": [
    {
     "name": "stdout",
     "output_type": "stream",
     "text": [
      "S/. 20.00\n"
     ]
    }
   ],
   "source": [
    "db = mysql.connector.connect(\n",
    "  host=\"MYSQL5027.site4now.net\",\n",
    "  user=\"a7b711_busproy\",\n",
    "  password=\"Sistemas10\",\n",
    "  port= \"3306\",  \n",
    "  database= \"db_a7b711_busproy\"\n",
    ")\n",
    "\n",
    "cursor = db.cursor()\n",
    "cursor.execute(\"SELECT precio_viaje FROM viaje_detalle where id=3\")\n",
    "vista6c = str(cursor.fetchall()[0:])\n",
    "inicio = vista6c.find(\"'\")\n",
    "final = vista6c.find(\"'\",inicio+1)\n",
    "extraerdato=vista6c[inicio+1:final]\n",
    "PagFin3=\", S/. \"+extraerdato\n",
    "print(PagFin3)"
   ]
  },
  {
   "cell_type": "code",
   "execution_count": 44,
   "id": "8c9cf352-dd7c-4677-9a92-6e71081d56fa",
   "metadata": {},
   "outputs": [
    {
     "name": "stdout",
     "output_type": "stream",
     "text": [
      "Primer minivan: 2\n"
     ]
    }
   ],
   "source": [
    "db = mysql.connector.connect(\n",
    "  host=\"MYSQL5027.site4now.net\",\n",
    "  user=\"a7b711_busproy\",\n",
    "  password=\"Sistemas10\",\n",
    "  port= \"3306\",  \n",
    "  database= \"db_a7b711_busproy\"\n",
    ")\n",
    "\n",
    "cursor = db.cursor()\n",
    "cursor.execute(\"SELECT num_asiento FROM asiento_usuario_detalle where id = 1\")\n",
    "vista7a = str(cursor.fetchall()[0:])\n",
    "inicio = vista7a.find(\"(\")\n",
    "final = vista7a.find(\",\",inicio+1)\n",
    "extraerdato=vista7a[inicio+1:final]\n",
    "AsitDis1=\"Primer minivan: \"+extraerdato\n",
    "print(AsitDis1)"
   ]
  },
  {
   "cell_type": "code",
   "execution_count": 45,
   "id": "692af51e-de52-4456-9829-5af987715c02",
   "metadata": {},
   "outputs": [
    {
     "name": "stdout",
     "output_type": "stream",
     "text": [
      ", Segunda minivan: 1\n"
     ]
    }
   ],
   "source": [
    "db = mysql.connector.connect(\n",
    "  host=\"MYSQL5027.site4now.net\",\n",
    "  user=\"a7b711_busproy\",\n",
    "  password=\"Sistemas10\",\n",
    "  port= \"3306\",  \n",
    "  database= \"db_a7b711_busproy\"\n",
    ")\n",
    "\n",
    "cursor = db.cursor()\n",
    "cursor.execute(\"SELECT num_asiento FROM asiento_usuario_detalle where id = 2\")\n",
    "vista7b = str(cursor.fetchall()[0:])\n",
    "inicio = vista7b.find(\"(\")\n",
    "final = vista7b.find(\",\",inicio+1)\n",
    "extraerdato=vista7b[inicio+1:final]\n",
    "AsitDis2=\", Segunda minivan: \"+extraerdato\n",
    "print(AsitDis2)"
   ]
  },
  {
   "cell_type": "code",
   "execution_count": 46,
   "id": "e27f3422-f16a-42cb-9cc9-94596786a259",
   "metadata": {},
   "outputs": [],
   "source": [
    "responses = {0 : {\"intent\":\"greetings\",\"response\":['Buen día, ¿En que le puedo ayudar?','Hola, ¿Cómo le va?','Hola, un gusto tenerte por aquí.',]}, \n",
    "      1 : {\"intent\":\"availability\",\"response\":['Sí, nuestros viajes por el momento son hacia: Huancayo, La Merced, Pichanaki y Satipo','Claro, tenemos viajes con destinos a: Huancayo, La Merced, Pichanaki y Satipo']},\n",
    "      2 : {\"intent\":\"flowers\",\"response\":['Los horarios que tenemos disponibles son: '+HoraFinal, 'Tenemos los siguentes horarios disponibles'+HoraFinal]},\n",
    "      3 : {\"intent\":\"flowers\",\"response\":['Nos ubicamos en Jr.Aviación 291 en Satipo, Av. Marginal 294 en Pichanaki, Av. Carlos A. En La Merced, Terminal terrestre en huancayo','Estamos ubicados en Jr.Aviación 291 en Satipo, Av. Marginal 294 en Pichanaki, Av. Carlos A. En La Merced, Terminal terrestre en huancayo']},\n",
    "      4 : {\"intent\":\"flowers\",\"response\":[\"Los precios disponibles que tenemos son: \"+PagFin1+PagFin2+PagFin3, 'Nuestros precios son: '+PagFin1+PagFin2+PagFin3]},\n",
    "      5 : {\"intent\":\"flowers\",\"response\":['Las cuidades a donde vamos tienen varios destinos turisticos que puede visitar.']},\n",
    "      6 : {\"intent\":\"flowers\",\"response\":['Se puede pagar con Paypal','Puede usted realizar los pagos con Paypal','Los pagos se realizan con Paypal']},\n",
    "      7 : {\"intent\":\"flowers\",\"response\":['Estos son nuestros asientos disponibles'+AsitDis1+AsitDis2, 'Te mostramos los asientos disponibles'+AsitDis1+AsitDis2]},\n",
    "      8 : {\"intent\":\"flowers\",\"response\":['Se mostrará nuestra políticas de trabajo a continuación: ','Claro, se le proporcionará nuestras políticas: ','Con mucho gusto, le mostraré un formato donde puede leer toda nuestra información: ']},\n",
    "      9 : {\"intent\":\"flowers\",\"response\":['Puede realizar su compra haciendo click en este bot: @.','Usted puede realizar la compra de su pasaje haciendo click en el siguente bot: @']},\n",
    "      10 : {\"intent\":\"goodbye\",\"response\":['Vuelva pronto.','Hasta pronto.','Chau, nos vemos pronto','Ten un buen día.']},\n",
    "      11 : {\"intent\":\"thankyou\",\"response\":['No se preocupe.' , 'No hay problema.', 'No hay problema, vuelva pronto.']}}"
   ]
  },
  {
   "cell_type": "code",
   "execution_count": 47,
   "id": "728c32cb-6822-4097-9ddc-8852dd3c73f7",
   "metadata": {},
   "outputs": [],
   "source": [
    "import json\n",
    "token = \"1984252857:AAFMGeqeiuVp_318l487D-wy4jfJFPxp2Fw\"\n",
    "\n",
    "class telegram_bot():\n",
    "    def __init__(self):\n",
    "        self.token=token \n",
    "        self.url = f\"https://api.telegram.org/bot{self.token}\"\n",
    "\n",
    "    def get_updates(self,offset=None):\n",
    "        url = self.url+\"/getUpdates?timeout=100\"\n",
    "        if offset:\n",
    "            url = url+f\"&offset={offset+1}\"\n",
    "        url_info = requests.get(url)\n",
    "        return json.loads(url_info.content)\n",
    "    def send_message(self,msg,chat_id):\n",
    "        url = self.url + f\"/sendMessage?chat_id={chat_id}&text={msg}\"\n",
    "        if msg is not None:\n",
    "            requests.get(url)\n",
    "\n",
    "    def grab_token(self):\n",
    "        return tokens"
   ]
  },
  {
   "cell_type": "code",
   "execution_count": 48,
   "id": "2f42778c-72d0-4f50-a6e9-299540a7487b",
   "metadata": {},
   "outputs": [],
   "source": [
    "# To get responnse\n",
    "\n",
    "def response(user_response):\n",
    "    text_test = [user_response]\n",
    "    X_test = vectorizer.transform(text_test)\n",
    "    prediction = lr.predict(X_test)\n",
    "    reply = random.choice(responses[prediction[0]]['response'])\n",
    "    return reply\n",
    "\n",
    "# To get indent\n",
    "def intent(user_response):\n",
    "    text_intent = [user_response]\n",
    "    X_test_intent = vectorizer.transform(text_intent)\n",
    "    predicted_intent = lr.predict(X_test_intent)\n",
    "    intent_predicted = responses[predicted_intent[0]]['intent']\n",
    "    return intent_predicted"
   ]
  },
  {
   "cell_type": "code",
   "execution_count": 49,
   "id": "e6c30866-3952-499b-9719-73832697a486",
   "metadata": {},
   "outputs": [],
   "source": [
    "import random\n",
    "\n",
    "def bot_initialize(user_msg):\n",
    "    flag=True\n",
    "    while(flag==True):\n",
    "        user_response = user_msg\n",
    "        \n",
    "        user_intent = intent(user_response)\n",
    "        \n",
    "        if(user_intent != 'goodbye'):\n",
    "            if(user_response == '/start'):\n",
    "                resp = \"\"\"Bienvenido a servicios Turismo SHIMA, aquí podemos responder algunas de tus consultas que tengas.\"\"\"\n",
    "                return resp\n",
    "            \n",
    "            elif (user_intent == 'greetings'):\n",
    "                resp = str(random.choice(responses[0]['response'])) + \", ¿Como puedo ayudarte?\"\n",
    "                return resp\n",
    "        \n",
    "            elif(user_intent == 'thankyou'):\n",
    "                resp = random.choice(responses[11]['response'])\n",
    "                return resp\n",
    "            \n",
    "            elif(user_intent == 'availability'):\n",
    "                resp = random.choice(responses[1]['response'])\n",
    "                return resp\n",
    "            \n",
    "            elif(user_intent == \"flowers\"):\n",
    "                user_response=user_response.lower()\n",
    "                resp = \"Posible respuesta:-\\n  \" + response(user_response)\n",
    "                return resp\n",
    "            \n",
    "            else:\n",
    "                resp = \"Mmmm! Podría ser más especifico por favor.\"\n",
    "                return resp\n",
    "            \n",
    "        else:\n",
    "            flag = False\n",
    "            resp = random.choice(responses[9]['response'])\n",
    "            return resp"
   ]
  },
  {
   "cell_type": "code",
   "execution_count": 50,
   "id": "baa894a1-3ce8-4f85-841b-896d3dd80a06",
   "metadata": {},
   "outputs": [
    {
     "name": "stdout",
     "output_type": "stream",
     "text": [
      "...\n",
      "[{'update_id': 131167067, 'message': {'message_id': 395, 'from': {'id': 1918631995, 'is_bot': False, 'first_name': 'Miguel', 'last_name': 'Veliz', 'language_code': 'en'}, 'chat': {'id': 1918631995, 'first_name': 'Miguel', 'last_name': 'Veliz', 'type': 'private'}, 'date': 1637772239, 'text': '/start', 'entities': [{'offset': 0, 'length': 6, 'type': 'bot_command'}]}}]\n",
      "131167067\n",
      "/start\n",
      "1918631995\n",
      "...\n",
      "[{'update_id': 131167068, 'message': {'message_id': 397, 'from': {'id': 1918631995, 'is_bot': False, 'first_name': 'Miguel', 'last_name': 'Veliz', 'language_code': 'en'}, 'chat': {'id': 1918631995, 'first_name': 'Miguel', 'last_name': 'Veliz', 'type': 'private'}, 'date': 1637772255, 'text': 'precios de los pasajes'}}]\n",
      "131167068\n",
      "precios de los pasajes\n",
      "1918631995\n",
      "...\n",
      "[{'update_id': 131167069, 'message': {'message_id': 399, 'from': {'id': 1918631995, 'is_bot': False, 'first_name': 'Miguel', 'last_name': 'Veliz', 'language_code': 'en'}, 'chat': {'id': 1918631995, 'first_name': 'Miguel', 'last_name': 'Veliz', 'type': 'private'}, 'date': 1637772301, 'text': '/start', 'entities': [{'offset': 0, 'length': 6, 'type': 'bot_command'}]}}]\n",
      "131167069\n",
      "/start\n",
      "1918631995\n"
     ]
    },
    {
     "ename": "ConnectionError",
     "evalue": "HTTPSConnectionPool(host='api.telegram.org', port=443): Max retries exceeded with url: /bot1984252857:AAFMGeqeiuVp_318l487D-wy4jfJFPxp2Fw/sendMessage?chat_id=1918631995&text=Bienvenido%20a%20servicios%20Turismo%20SHIMA,%20aqu%C3%AD%20podemos%20responder%20algunas%20de%20tus%20consultas%20que%20tengas. (Caused by NewConnectionError('<urllib3.connection.HTTPSConnection object at 0x000002A901DC0790>: Failed to establish a new connection: [Errno 11001] getaddrinfo failed'))",
     "output_type": "error",
     "traceback": [
      "\u001b[1;31m---------------------------------------------------------------------------\u001b[0m",
      "\u001b[1;31mgaierror\u001b[0m                                  Traceback (most recent call last)",
      "\u001b[1;32mC:\\ProgramData\\Anaconda3\\lib\\site-packages\\urllib3\\connection.py\u001b[0m in \u001b[0;36m_new_conn\u001b[1;34m(self)\u001b[0m\n\u001b[0;32m    168\u001b[0m         \u001b[1;32mtry\u001b[0m\u001b[1;33m:\u001b[0m\u001b[1;33m\u001b[0m\u001b[1;33m\u001b[0m\u001b[0m\n\u001b[1;32m--> 169\u001b[1;33m             conn = connection.create_connection(\n\u001b[0m\u001b[0;32m    170\u001b[0m                 \u001b[1;33m(\u001b[0m\u001b[0mself\u001b[0m\u001b[1;33m.\u001b[0m\u001b[0m_dns_host\u001b[0m\u001b[1;33m,\u001b[0m \u001b[0mself\u001b[0m\u001b[1;33m.\u001b[0m\u001b[0mport\u001b[0m\u001b[1;33m)\u001b[0m\u001b[1;33m,\u001b[0m \u001b[0mself\u001b[0m\u001b[1;33m.\u001b[0m\u001b[0mtimeout\u001b[0m\u001b[1;33m,\u001b[0m \u001b[1;33m**\u001b[0m\u001b[0mextra_kw\u001b[0m\u001b[1;33m\u001b[0m\u001b[1;33m\u001b[0m\u001b[0m\n",
      "\u001b[1;32mC:\\ProgramData\\Anaconda3\\lib\\site-packages\\urllib3\\util\\connection.py\u001b[0m in \u001b[0;36mcreate_connection\u001b[1;34m(address, timeout, source_address, socket_options)\u001b[0m\n\u001b[0;32m     72\u001b[0m \u001b[1;33m\u001b[0m\u001b[0m\n\u001b[1;32m---> 73\u001b[1;33m     \u001b[1;32mfor\u001b[0m \u001b[0mres\u001b[0m \u001b[1;32min\u001b[0m \u001b[0msocket\u001b[0m\u001b[1;33m.\u001b[0m\u001b[0mgetaddrinfo\u001b[0m\u001b[1;33m(\u001b[0m\u001b[0mhost\u001b[0m\u001b[1;33m,\u001b[0m \u001b[0mport\u001b[0m\u001b[1;33m,\u001b[0m \u001b[0mfamily\u001b[0m\u001b[1;33m,\u001b[0m \u001b[0msocket\u001b[0m\u001b[1;33m.\u001b[0m\u001b[0mSOCK_STREAM\u001b[0m\u001b[1;33m)\u001b[0m\u001b[1;33m:\u001b[0m\u001b[1;33m\u001b[0m\u001b[1;33m\u001b[0m\u001b[0m\n\u001b[0m\u001b[0;32m     74\u001b[0m         \u001b[0maf\u001b[0m\u001b[1;33m,\u001b[0m \u001b[0msocktype\u001b[0m\u001b[1;33m,\u001b[0m \u001b[0mproto\u001b[0m\u001b[1;33m,\u001b[0m \u001b[0mcanonname\u001b[0m\u001b[1;33m,\u001b[0m \u001b[0msa\u001b[0m \u001b[1;33m=\u001b[0m \u001b[0mres\u001b[0m\u001b[1;33m\u001b[0m\u001b[1;33m\u001b[0m\u001b[0m\n",
      "\u001b[1;32mC:\\ProgramData\\Anaconda3\\lib\\socket.py\u001b[0m in \u001b[0;36mgetaddrinfo\u001b[1;34m(host, port, family, type, proto, flags)\u001b[0m\n\u001b[0;32m    917\u001b[0m     \u001b[0maddrlist\u001b[0m \u001b[1;33m=\u001b[0m \u001b[1;33m[\u001b[0m\u001b[1;33m]\u001b[0m\u001b[1;33m\u001b[0m\u001b[1;33m\u001b[0m\u001b[0m\n\u001b[1;32m--> 918\u001b[1;33m     \u001b[1;32mfor\u001b[0m \u001b[0mres\u001b[0m \u001b[1;32min\u001b[0m \u001b[0m_socket\u001b[0m\u001b[1;33m.\u001b[0m\u001b[0mgetaddrinfo\u001b[0m\u001b[1;33m(\u001b[0m\u001b[0mhost\u001b[0m\u001b[1;33m,\u001b[0m \u001b[0mport\u001b[0m\u001b[1;33m,\u001b[0m \u001b[0mfamily\u001b[0m\u001b[1;33m,\u001b[0m \u001b[0mtype\u001b[0m\u001b[1;33m,\u001b[0m \u001b[0mproto\u001b[0m\u001b[1;33m,\u001b[0m \u001b[0mflags\u001b[0m\u001b[1;33m)\u001b[0m\u001b[1;33m:\u001b[0m\u001b[1;33m\u001b[0m\u001b[1;33m\u001b[0m\u001b[0m\n\u001b[0m\u001b[0;32m    919\u001b[0m         \u001b[0maf\u001b[0m\u001b[1;33m,\u001b[0m \u001b[0msocktype\u001b[0m\u001b[1;33m,\u001b[0m \u001b[0mproto\u001b[0m\u001b[1;33m,\u001b[0m \u001b[0mcanonname\u001b[0m\u001b[1;33m,\u001b[0m \u001b[0msa\u001b[0m \u001b[1;33m=\u001b[0m \u001b[0mres\u001b[0m\u001b[1;33m\u001b[0m\u001b[1;33m\u001b[0m\u001b[0m\n",
      "\u001b[1;31mgaierror\u001b[0m: [Errno 11001] getaddrinfo failed",
      "\nDuring handling of the above exception, another exception occurred:\n",
      "\u001b[1;31mNewConnectionError\u001b[0m                        Traceback (most recent call last)",
      "\u001b[1;32mC:\\ProgramData\\Anaconda3\\lib\\site-packages\\urllib3\\connectionpool.py\u001b[0m in \u001b[0;36murlopen\u001b[1;34m(self, method, url, body, headers, retries, redirect, assert_same_host, timeout, pool_timeout, release_conn, chunked, body_pos, **response_kw)\u001b[0m\n\u001b[0;32m    698\u001b[0m             \u001b[1;31m# Make the request on the httplib connection object.\u001b[0m\u001b[1;33m\u001b[0m\u001b[1;33m\u001b[0m\u001b[1;33m\u001b[0m\u001b[0m\n\u001b[1;32m--> 699\u001b[1;33m             httplib_response = self._make_request(\n\u001b[0m\u001b[0;32m    700\u001b[0m                 \u001b[0mconn\u001b[0m\u001b[1;33m,\u001b[0m\u001b[1;33m\u001b[0m\u001b[1;33m\u001b[0m\u001b[0m\n",
      "\u001b[1;32mC:\\ProgramData\\Anaconda3\\lib\\site-packages\\urllib3\\connectionpool.py\u001b[0m in \u001b[0;36m_make_request\u001b[1;34m(self, conn, method, url, timeout, chunked, **httplib_request_kw)\u001b[0m\n\u001b[0;32m    381\u001b[0m         \u001b[1;32mtry\u001b[0m\u001b[1;33m:\u001b[0m\u001b[1;33m\u001b[0m\u001b[1;33m\u001b[0m\u001b[0m\n\u001b[1;32m--> 382\u001b[1;33m             \u001b[0mself\u001b[0m\u001b[1;33m.\u001b[0m\u001b[0m_validate_conn\u001b[0m\u001b[1;33m(\u001b[0m\u001b[0mconn\u001b[0m\u001b[1;33m)\u001b[0m\u001b[1;33m\u001b[0m\u001b[1;33m\u001b[0m\u001b[0m\n\u001b[0m\u001b[0;32m    383\u001b[0m         \u001b[1;32mexcept\u001b[0m \u001b[1;33m(\u001b[0m\u001b[0mSocketTimeout\u001b[0m\u001b[1;33m,\u001b[0m \u001b[0mBaseSSLError\u001b[0m\u001b[1;33m)\u001b[0m \u001b[1;32mas\u001b[0m \u001b[0me\u001b[0m\u001b[1;33m:\u001b[0m\u001b[1;33m\u001b[0m\u001b[1;33m\u001b[0m\u001b[0m\n",
      "\u001b[1;32mC:\\ProgramData\\Anaconda3\\lib\\site-packages\\urllib3\\connectionpool.py\u001b[0m in \u001b[0;36m_validate_conn\u001b[1;34m(self, conn)\u001b[0m\n\u001b[0;32m   1009\u001b[0m         \u001b[1;32mif\u001b[0m \u001b[1;32mnot\u001b[0m \u001b[0mgetattr\u001b[0m\u001b[1;33m(\u001b[0m\u001b[0mconn\u001b[0m\u001b[1;33m,\u001b[0m \u001b[1;34m\"sock\"\u001b[0m\u001b[1;33m,\u001b[0m \u001b[1;32mNone\u001b[0m\u001b[1;33m)\u001b[0m\u001b[1;33m:\u001b[0m  \u001b[1;31m# AppEngine might not have  `.sock`\u001b[0m\u001b[1;33m\u001b[0m\u001b[1;33m\u001b[0m\u001b[0m\n\u001b[1;32m-> 1010\u001b[1;33m             \u001b[0mconn\u001b[0m\u001b[1;33m.\u001b[0m\u001b[0mconnect\u001b[0m\u001b[1;33m(\u001b[0m\u001b[1;33m)\u001b[0m\u001b[1;33m\u001b[0m\u001b[1;33m\u001b[0m\u001b[0m\n\u001b[0m\u001b[0;32m   1011\u001b[0m \u001b[1;33m\u001b[0m\u001b[0m\n",
      "\u001b[1;32mC:\\ProgramData\\Anaconda3\\lib\\site-packages\\urllib3\\connection.py\u001b[0m in \u001b[0;36mconnect\u001b[1;34m(self)\u001b[0m\n\u001b[0;32m    352\u001b[0m         \u001b[1;31m# Add certificate verification\u001b[0m\u001b[1;33m\u001b[0m\u001b[1;33m\u001b[0m\u001b[1;33m\u001b[0m\u001b[0m\n\u001b[1;32m--> 353\u001b[1;33m         \u001b[0mconn\u001b[0m \u001b[1;33m=\u001b[0m \u001b[0mself\u001b[0m\u001b[1;33m.\u001b[0m\u001b[0m_new_conn\u001b[0m\u001b[1;33m(\u001b[0m\u001b[1;33m)\u001b[0m\u001b[1;33m\u001b[0m\u001b[1;33m\u001b[0m\u001b[0m\n\u001b[0m\u001b[0;32m    354\u001b[0m         \u001b[0mhostname\u001b[0m \u001b[1;33m=\u001b[0m \u001b[0mself\u001b[0m\u001b[1;33m.\u001b[0m\u001b[0mhost\u001b[0m\u001b[1;33m\u001b[0m\u001b[1;33m\u001b[0m\u001b[0m\n",
      "\u001b[1;32mC:\\ProgramData\\Anaconda3\\lib\\site-packages\\urllib3\\connection.py\u001b[0m in \u001b[0;36m_new_conn\u001b[1;34m(self)\u001b[0m\n\u001b[0;32m    180\u001b[0m         \u001b[1;32mexcept\u001b[0m \u001b[0mSocketError\u001b[0m \u001b[1;32mas\u001b[0m \u001b[0me\u001b[0m\u001b[1;33m:\u001b[0m\u001b[1;33m\u001b[0m\u001b[1;33m\u001b[0m\u001b[0m\n\u001b[1;32m--> 181\u001b[1;33m             raise NewConnectionError(\n\u001b[0m\u001b[0;32m    182\u001b[0m                 \u001b[0mself\u001b[0m\u001b[1;33m,\u001b[0m \u001b[1;34m\"Failed to establish a new connection: %s\"\u001b[0m \u001b[1;33m%\u001b[0m \u001b[0me\u001b[0m\u001b[1;33m\u001b[0m\u001b[1;33m\u001b[0m\u001b[0m\n",
      "\u001b[1;31mNewConnectionError\u001b[0m: <urllib3.connection.HTTPSConnection object at 0x000002A901DC0790>: Failed to establish a new connection: [Errno 11001] getaddrinfo failed",
      "\nDuring handling of the above exception, another exception occurred:\n",
      "\u001b[1;31mMaxRetryError\u001b[0m                             Traceback (most recent call last)",
      "\u001b[1;32mC:\\ProgramData\\Anaconda3\\lib\\site-packages\\requests\\adapters.py\u001b[0m in \u001b[0;36msend\u001b[1;34m(self, request, stream, timeout, verify, cert, proxies)\u001b[0m\n\u001b[0;32m    438\u001b[0m             \u001b[1;32mif\u001b[0m \u001b[1;32mnot\u001b[0m \u001b[0mchunked\u001b[0m\u001b[1;33m:\u001b[0m\u001b[1;33m\u001b[0m\u001b[1;33m\u001b[0m\u001b[0m\n\u001b[1;32m--> 439\u001b[1;33m                 resp = conn.urlopen(\n\u001b[0m\u001b[0;32m    440\u001b[0m                     \u001b[0mmethod\u001b[0m\u001b[1;33m=\u001b[0m\u001b[0mrequest\u001b[0m\u001b[1;33m.\u001b[0m\u001b[0mmethod\u001b[0m\u001b[1;33m,\u001b[0m\u001b[1;33m\u001b[0m\u001b[1;33m\u001b[0m\u001b[0m\n",
      "\u001b[1;32mC:\\ProgramData\\Anaconda3\\lib\\site-packages\\urllib3\\connectionpool.py\u001b[0m in \u001b[0;36murlopen\u001b[1;34m(self, method, url, body, headers, retries, redirect, assert_same_host, timeout, pool_timeout, release_conn, chunked, body_pos, **response_kw)\u001b[0m\n\u001b[0;32m    754\u001b[0m \u001b[1;33m\u001b[0m\u001b[0m\n\u001b[1;32m--> 755\u001b[1;33m             retries = retries.increment(\n\u001b[0m\u001b[0;32m    756\u001b[0m                 \u001b[0mmethod\u001b[0m\u001b[1;33m,\u001b[0m \u001b[0murl\u001b[0m\u001b[1;33m,\u001b[0m \u001b[0merror\u001b[0m\u001b[1;33m=\u001b[0m\u001b[0me\u001b[0m\u001b[1;33m,\u001b[0m \u001b[0m_pool\u001b[0m\u001b[1;33m=\u001b[0m\u001b[0mself\u001b[0m\u001b[1;33m,\u001b[0m \u001b[0m_stacktrace\u001b[0m\u001b[1;33m=\u001b[0m\u001b[0msys\u001b[0m\u001b[1;33m.\u001b[0m\u001b[0mexc_info\u001b[0m\u001b[1;33m(\u001b[0m\u001b[1;33m)\u001b[0m\u001b[1;33m[\u001b[0m\u001b[1;36m2\u001b[0m\u001b[1;33m]\u001b[0m\u001b[1;33m\u001b[0m\u001b[1;33m\u001b[0m\u001b[0m\n",
      "\u001b[1;32mC:\\ProgramData\\Anaconda3\\lib\\site-packages\\urllib3\\util\\retry.py\u001b[0m in \u001b[0;36mincrement\u001b[1;34m(self, method, url, response, error, _pool, _stacktrace)\u001b[0m\n\u001b[0;32m    573\u001b[0m         \u001b[1;32mif\u001b[0m \u001b[0mnew_retry\u001b[0m\u001b[1;33m.\u001b[0m\u001b[0mis_exhausted\u001b[0m\u001b[1;33m(\u001b[0m\u001b[1;33m)\u001b[0m\u001b[1;33m:\u001b[0m\u001b[1;33m\u001b[0m\u001b[1;33m\u001b[0m\u001b[0m\n\u001b[1;32m--> 574\u001b[1;33m             \u001b[1;32mraise\u001b[0m \u001b[0mMaxRetryError\u001b[0m\u001b[1;33m(\u001b[0m\u001b[0m_pool\u001b[0m\u001b[1;33m,\u001b[0m \u001b[0murl\u001b[0m\u001b[1;33m,\u001b[0m \u001b[0merror\u001b[0m \u001b[1;32mor\u001b[0m \u001b[0mResponseError\u001b[0m\u001b[1;33m(\u001b[0m\u001b[0mcause\u001b[0m\u001b[1;33m)\u001b[0m\u001b[1;33m)\u001b[0m\u001b[1;33m\u001b[0m\u001b[1;33m\u001b[0m\u001b[0m\n\u001b[0m\u001b[0;32m    575\u001b[0m \u001b[1;33m\u001b[0m\u001b[0m\n",
      "\u001b[1;31mMaxRetryError\u001b[0m: HTTPSConnectionPool(host='api.telegram.org', port=443): Max retries exceeded with url: /bot1984252857:AAFMGeqeiuVp_318l487D-wy4jfJFPxp2Fw/sendMessage?chat_id=1918631995&text=Bienvenido%20a%20servicios%20Turismo%20SHIMA,%20aqu%C3%AD%20podemos%20responder%20algunas%20de%20tus%20consultas%20que%20tengas. (Caused by NewConnectionError('<urllib3.connection.HTTPSConnection object at 0x000002A901DC0790>: Failed to establish a new connection: [Errno 11001] getaddrinfo failed'))",
      "\nDuring handling of the above exception, another exception occurred:\n",
      "\u001b[1;31mConnectionError\u001b[0m                           Traceback (most recent call last)",
      "\u001b[1;32m<ipython-input-50-524a130021eb>\u001b[0m in \u001b[0;36m<module>\u001b[1;34m\u001b[0m\n\u001b[0;32m     27\u001b[0m \u001b[1;33m\u001b[0m\u001b[0m\n\u001b[0;32m     28\u001b[0m             \u001b[0mreply\u001b[0m \u001b[1;33m=\u001b[0m \u001b[0mmake_reply\u001b[0m\u001b[1;33m(\u001b[0m\u001b[0mmessage\u001b[0m\u001b[1;33m)\u001b[0m\u001b[1;33m\u001b[0m\u001b[1;33m\u001b[0m\u001b[0m\n\u001b[1;32m---> 29\u001b[1;33m             \u001b[0mtbot\u001b[0m\u001b[1;33m.\u001b[0m\u001b[0msend_message\u001b[0m\u001b[1;33m(\u001b[0m\u001b[0mreply\u001b[0m\u001b[1;33m,\u001b[0m\u001b[0mfrom_\u001b[0m\u001b[1;33m)\u001b[0m\u001b[1;33m\u001b[0m\u001b[1;33m\u001b[0m\u001b[0m\n\u001b[0m",
      "\u001b[1;32m<ipython-input-47-a94f21fc4eae>\u001b[0m in \u001b[0;36msend_message\u001b[1;34m(self, msg, chat_id)\u001b[0m\n\u001b[0;32m     16\u001b[0m         \u001b[0murl\u001b[0m \u001b[1;33m=\u001b[0m \u001b[0mself\u001b[0m\u001b[1;33m.\u001b[0m\u001b[0murl\u001b[0m \u001b[1;33m+\u001b[0m \u001b[1;34mf\"/sendMessage?chat_id={chat_id}&text={msg}\"\u001b[0m\u001b[1;33m\u001b[0m\u001b[1;33m\u001b[0m\u001b[0m\n\u001b[0;32m     17\u001b[0m         \u001b[1;32mif\u001b[0m \u001b[0mmsg\u001b[0m \u001b[1;32mis\u001b[0m \u001b[1;32mnot\u001b[0m \u001b[1;32mNone\u001b[0m\u001b[1;33m:\u001b[0m\u001b[1;33m\u001b[0m\u001b[1;33m\u001b[0m\u001b[0m\n\u001b[1;32m---> 18\u001b[1;33m             \u001b[0mrequests\u001b[0m\u001b[1;33m.\u001b[0m\u001b[0mget\u001b[0m\u001b[1;33m(\u001b[0m\u001b[0murl\u001b[0m\u001b[1;33m)\u001b[0m\u001b[1;33m\u001b[0m\u001b[1;33m\u001b[0m\u001b[0m\n\u001b[0m\u001b[0;32m     19\u001b[0m \u001b[1;33m\u001b[0m\u001b[0m\n\u001b[0;32m     20\u001b[0m     \u001b[1;32mdef\u001b[0m \u001b[0mgrab_token\u001b[0m\u001b[1;33m(\u001b[0m\u001b[0mself\u001b[0m\u001b[1;33m)\u001b[0m\u001b[1;33m:\u001b[0m\u001b[1;33m\u001b[0m\u001b[1;33m\u001b[0m\u001b[0m\n",
      "\u001b[1;32mC:\\ProgramData\\Anaconda3\\lib\\site-packages\\requests\\api.py\u001b[0m in \u001b[0;36mget\u001b[1;34m(url, params, **kwargs)\u001b[0m\n\u001b[0;32m     74\u001b[0m \u001b[1;33m\u001b[0m\u001b[0m\n\u001b[0;32m     75\u001b[0m     \u001b[0mkwargs\u001b[0m\u001b[1;33m.\u001b[0m\u001b[0msetdefault\u001b[0m\u001b[1;33m(\u001b[0m\u001b[1;34m'allow_redirects'\u001b[0m\u001b[1;33m,\u001b[0m \u001b[1;32mTrue\u001b[0m\u001b[1;33m)\u001b[0m\u001b[1;33m\u001b[0m\u001b[1;33m\u001b[0m\u001b[0m\n\u001b[1;32m---> 76\u001b[1;33m     \u001b[1;32mreturn\u001b[0m \u001b[0mrequest\u001b[0m\u001b[1;33m(\u001b[0m\u001b[1;34m'get'\u001b[0m\u001b[1;33m,\u001b[0m \u001b[0murl\u001b[0m\u001b[1;33m,\u001b[0m \u001b[0mparams\u001b[0m\u001b[1;33m=\u001b[0m\u001b[0mparams\u001b[0m\u001b[1;33m,\u001b[0m \u001b[1;33m**\u001b[0m\u001b[0mkwargs\u001b[0m\u001b[1;33m)\u001b[0m\u001b[1;33m\u001b[0m\u001b[1;33m\u001b[0m\u001b[0m\n\u001b[0m\u001b[0;32m     77\u001b[0m \u001b[1;33m\u001b[0m\u001b[0m\n\u001b[0;32m     78\u001b[0m \u001b[1;33m\u001b[0m\u001b[0m\n",
      "\u001b[1;32mC:\\ProgramData\\Anaconda3\\lib\\site-packages\\requests\\api.py\u001b[0m in \u001b[0;36mrequest\u001b[1;34m(method, url, **kwargs)\u001b[0m\n\u001b[0;32m     59\u001b[0m     \u001b[1;31m# cases, and look like a memory leak in others.\u001b[0m\u001b[1;33m\u001b[0m\u001b[1;33m\u001b[0m\u001b[1;33m\u001b[0m\u001b[0m\n\u001b[0;32m     60\u001b[0m     \u001b[1;32mwith\u001b[0m \u001b[0msessions\u001b[0m\u001b[1;33m.\u001b[0m\u001b[0mSession\u001b[0m\u001b[1;33m(\u001b[0m\u001b[1;33m)\u001b[0m \u001b[1;32mas\u001b[0m \u001b[0msession\u001b[0m\u001b[1;33m:\u001b[0m\u001b[1;33m\u001b[0m\u001b[1;33m\u001b[0m\u001b[0m\n\u001b[1;32m---> 61\u001b[1;33m         \u001b[1;32mreturn\u001b[0m \u001b[0msession\u001b[0m\u001b[1;33m.\u001b[0m\u001b[0mrequest\u001b[0m\u001b[1;33m(\u001b[0m\u001b[0mmethod\u001b[0m\u001b[1;33m=\u001b[0m\u001b[0mmethod\u001b[0m\u001b[1;33m,\u001b[0m \u001b[0murl\u001b[0m\u001b[1;33m=\u001b[0m\u001b[0murl\u001b[0m\u001b[1;33m,\u001b[0m \u001b[1;33m**\u001b[0m\u001b[0mkwargs\u001b[0m\u001b[1;33m)\u001b[0m\u001b[1;33m\u001b[0m\u001b[1;33m\u001b[0m\u001b[0m\n\u001b[0m\u001b[0;32m     62\u001b[0m \u001b[1;33m\u001b[0m\u001b[0m\n\u001b[0;32m     63\u001b[0m \u001b[1;33m\u001b[0m\u001b[0m\n",
      "\u001b[1;32mC:\\ProgramData\\Anaconda3\\lib\\site-packages\\requests\\sessions.py\u001b[0m in \u001b[0;36mrequest\u001b[1;34m(self, method, url, params, data, headers, cookies, files, auth, timeout, allow_redirects, proxies, hooks, stream, verify, cert, json)\u001b[0m\n\u001b[0;32m    540\u001b[0m         }\n\u001b[0;32m    541\u001b[0m         \u001b[0msend_kwargs\u001b[0m\u001b[1;33m.\u001b[0m\u001b[0mupdate\u001b[0m\u001b[1;33m(\u001b[0m\u001b[0msettings\u001b[0m\u001b[1;33m)\u001b[0m\u001b[1;33m\u001b[0m\u001b[1;33m\u001b[0m\u001b[0m\n\u001b[1;32m--> 542\u001b[1;33m         \u001b[0mresp\u001b[0m \u001b[1;33m=\u001b[0m \u001b[0mself\u001b[0m\u001b[1;33m.\u001b[0m\u001b[0msend\u001b[0m\u001b[1;33m(\u001b[0m\u001b[0mprep\u001b[0m\u001b[1;33m,\u001b[0m \u001b[1;33m**\u001b[0m\u001b[0msend_kwargs\u001b[0m\u001b[1;33m)\u001b[0m\u001b[1;33m\u001b[0m\u001b[1;33m\u001b[0m\u001b[0m\n\u001b[0m\u001b[0;32m    543\u001b[0m \u001b[1;33m\u001b[0m\u001b[0m\n\u001b[0;32m    544\u001b[0m         \u001b[1;32mreturn\u001b[0m \u001b[0mresp\u001b[0m\u001b[1;33m\u001b[0m\u001b[1;33m\u001b[0m\u001b[0m\n",
      "\u001b[1;32mC:\\ProgramData\\Anaconda3\\lib\\site-packages\\requests\\sessions.py\u001b[0m in \u001b[0;36msend\u001b[1;34m(self, request, **kwargs)\u001b[0m\n\u001b[0;32m    653\u001b[0m \u001b[1;33m\u001b[0m\u001b[0m\n\u001b[0;32m    654\u001b[0m         \u001b[1;31m# Send the request\u001b[0m\u001b[1;33m\u001b[0m\u001b[1;33m\u001b[0m\u001b[1;33m\u001b[0m\u001b[0m\n\u001b[1;32m--> 655\u001b[1;33m         \u001b[0mr\u001b[0m \u001b[1;33m=\u001b[0m \u001b[0madapter\u001b[0m\u001b[1;33m.\u001b[0m\u001b[0msend\u001b[0m\u001b[1;33m(\u001b[0m\u001b[0mrequest\u001b[0m\u001b[1;33m,\u001b[0m \u001b[1;33m**\u001b[0m\u001b[0mkwargs\u001b[0m\u001b[1;33m)\u001b[0m\u001b[1;33m\u001b[0m\u001b[1;33m\u001b[0m\u001b[0m\n\u001b[0m\u001b[0;32m    656\u001b[0m \u001b[1;33m\u001b[0m\u001b[0m\n\u001b[0;32m    657\u001b[0m         \u001b[1;31m# Total elapsed time of the request (approximately)\u001b[0m\u001b[1;33m\u001b[0m\u001b[1;33m\u001b[0m\u001b[1;33m\u001b[0m\u001b[0m\n",
      "\u001b[1;32mC:\\ProgramData\\Anaconda3\\lib\\site-packages\\requests\\adapters.py\u001b[0m in \u001b[0;36msend\u001b[1;34m(self, request, stream, timeout, verify, cert, proxies)\u001b[0m\n\u001b[0;32m    514\u001b[0m                 \u001b[1;32mraise\u001b[0m \u001b[0mSSLError\u001b[0m\u001b[1;33m(\u001b[0m\u001b[0me\u001b[0m\u001b[1;33m,\u001b[0m \u001b[0mrequest\u001b[0m\u001b[1;33m=\u001b[0m\u001b[0mrequest\u001b[0m\u001b[1;33m)\u001b[0m\u001b[1;33m\u001b[0m\u001b[1;33m\u001b[0m\u001b[0m\n\u001b[0;32m    515\u001b[0m \u001b[1;33m\u001b[0m\u001b[0m\n\u001b[1;32m--> 516\u001b[1;33m             \u001b[1;32mraise\u001b[0m \u001b[0mConnectionError\u001b[0m\u001b[1;33m(\u001b[0m\u001b[0me\u001b[0m\u001b[1;33m,\u001b[0m \u001b[0mrequest\u001b[0m\u001b[1;33m=\u001b[0m\u001b[0mrequest\u001b[0m\u001b[1;33m)\u001b[0m\u001b[1;33m\u001b[0m\u001b[1;33m\u001b[0m\u001b[0m\n\u001b[0m\u001b[0;32m    517\u001b[0m \u001b[1;33m\u001b[0m\u001b[0m\n\u001b[0;32m    518\u001b[0m         \u001b[1;32mexcept\u001b[0m \u001b[0mClosedPoolError\u001b[0m \u001b[1;32mas\u001b[0m \u001b[0me\u001b[0m\u001b[1;33m:\u001b[0m\u001b[1;33m\u001b[0m\u001b[1;33m\u001b[0m\u001b[0m\n",
      "\u001b[1;31mConnectionError\u001b[0m: HTTPSConnectionPool(host='api.telegram.org', port=443): Max retries exceeded with url: /bot1984252857:AAFMGeqeiuVp_318l487D-wy4jfJFPxp2Fw/sendMessage?chat_id=1918631995&text=Bienvenido%20a%20servicios%20Turismo%20SHIMA,%20aqu%C3%AD%20podemos%20responder%20algunas%20de%20tus%20consultas%20que%20tengas. (Caused by NewConnectionError('<urllib3.connection.HTTPSConnection object at 0x000002A901DC0790>: Failed to establish a new connection: [Errno 11001] getaddrinfo failed'))"
     ]
    }
   ],
   "source": [
    "tbot = telegram_bot()\n",
    "\n",
    "update_id = None\n",
    "\n",
    "def make_reply(msg):\n",
    "    if msg is not None:\n",
    "        reply = bot_initialize(msg)\n",
    "    return reply\n",
    "\n",
    "\n",
    "while True:\n",
    "    print(\"...\")\n",
    "    updates = tbot.get_updates(offset=update_id)\n",
    "    updates = updates['result']\n",
    "    print(updates)\n",
    "    if updates:\n",
    "        for item in updates:\n",
    "            update_id = item[\"update_id\"]\n",
    "            print(update_id)\n",
    "            try:\n",
    "                message = item[\"message\"][\"text\"]\n",
    "                print(message)\n",
    "            except:\n",
    "                message = None\n",
    "            from_ = item[\"message\"][\"from\"][\"id\"]\n",
    "            print(from_)\n",
    "\n",
    "            reply = make_reply(message)\n",
    "            tbot.send_message(reply,from_)"
   ]
  },
  {
   "cell_type": "code",
   "execution_count": null,
   "id": "ff6a76d8-d00a-415a-879f-d8a3466bba50",
   "metadata": {},
   "outputs": [],
   "source": []
  }
 ],
 "metadata": {
  "kernelspec": {
   "display_name": "Python 3",
   "language": "python",
   "name": "python3"
  },
  "language_info": {
   "codemirror_mode": {
    "name": "ipython",
    "version": 3
   },
   "file_extension": ".py",
   "mimetype": "text/x-python",
   "name": "python",
   "nbconvert_exporter": "python",
   "pygments_lexer": "ipython3",
   "version": "3.8.8"
  }
 },
 "nbformat": 4,
 "nbformat_minor": 5
}
